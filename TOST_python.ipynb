{
 "cells": [
  {
   "cell_type": "markdown",
   "metadata": {},
   "source": [
    "# Test of Equivalence and Non-Inferiority"
   ]
  },
  {
   "cell_type": "markdown",
   "metadata": {},
   "source": [
    "**Author: Dr. Rachita Halehalli**\n",
    "<br>Data Scientist\n",
    "<br>MMJS DataPhi\n"
   ]
  },
  {
   "cell_type": "code",
   "execution_count": null,
   "metadata": {},
   "outputs": [],
   "source": []
  },
  {
   "cell_type": "code",
   "execution_count": 1,
   "metadata": {},
   "outputs": [],
   "source": [
    "#import libraries\n",
    "import numpy as np\n",
    "import pandas as pd\n",
    "import seaborn as sb\n",
    "import matplotlib.pyplot as plt\n",
    "from scipy import stats\n",
    "#import statsmodels.stats.weightstats as smws\n",
    "import statsmodels.stats.weightstats as ssw\n",
    "from IPython.core.interactiveshell import InteractiveShell  \n",
    "InteractiveShell.ast_node_interactivity = \"all\""
   ]
  },
  {
   "cell_type": "code",
   "execution_count": 2,
   "metadata": {},
   "outputs": [
    {
     "data": {
      "text/plain": [
       "Index(['Category', 'A', 'B'], dtype='object')"
      ]
     },
     "execution_count": 2,
     "metadata": {},
     "output_type": "execute_result"
    },
    {
     "data": {
      "text/plain": [
       "array(['Category 1', 'Category 2'], dtype=object)"
      ]
     },
     "execution_count": 2,
     "metadata": {},
     "output_type": "execute_result"
    }
   ],
   "source": [
    "#read data from excel - \n",
    "#tost_dummy is dummy data created for demonstartion of test\n",
    "# data has 3 columns - Category (values 1 and 2), numeric values in series 'A' and series 'B'\n",
    "data=pd.read_excel('tost_dummy.xlsx')\n",
    "data.columns\n",
    "data['Category'].unique()"
   ]
  },
  {
   "cell_type": "markdown",
   "metadata": {},
   "source": [
    "## T-Test and Two One-Sided Test for Category 1"
   ]
  },
  {
   "cell_type": "code",
   "execution_count": 3,
   "metadata": {},
   "outputs": [
    {
     "name": "stdout",
     "output_type": "stream",
     "text": [
      "T-Test Results\n",
      "-----------------------------\n"
     ]
    },
    {
     "data": {
      "text/plain": [
       "Ttest_indResult(statistic=-11.348310146795367, pvalue=8.843413759951763e-25)"
      ]
     },
     "execution_count": 3,
     "metadata": {},
     "output_type": "execute_result"
    },
    {
     "name": "stdout",
     "output_type": "stream",
     "text": [
      "\n",
      "TOST Results\n",
      "-----------------------------\n"
     ]
    },
    {
     "data": {
      "text/plain": [
       "(0.6235885568404105,\n",
       " (-0.31523083741098323, 0.6235885568404105, 278.0),\n",
       " (-27.89792911087194, 7.250657069066468e-83, 278.0))"
      ]
     },
     "execution_count": 3,
     "metadata": {},
     "output_type": "execute_result"
    },
    {
     "data": {
      "text/plain": [
       "<matplotlib.axes._subplots.AxesSubplot at 0x1192d4610>"
      ]
     },
     "execution_count": 3,
     "metadata": {},
     "output_type": "execute_result"
    },
    {
     "data": {
      "image/png": "[encoded data removed]",
      "text/plain": [
       "<Figure size 432x288 with 1 Axes>"
      ]
     },
     "metadata": {
      "needs_background": "light"
     },
     "output_type": "display_data"
    }
   ],
   "source": [
    "Category1 = data[data['Category']=='Category 1']\n",
    "print('T-Test Results\\n-----------------------------')\n",
    "stats.ttest_ind(Category1.A, Category1.B)\n",
    "print('\\nTOST Results\\n-----------------------------')\n",
    "ssw.ttost_ind(Category1.A, Category1.B, low=-20, upp=30)\n",
    "Category1.boxplot(column= ['A','B'],grid=False)"
   ]
  },
  {
   "cell_type": "raw",
   "metadata": {},
   "source": [
    "Interpreting results:\n",
    "\n",
    "T-test p<0.05. There is no sufficient evidence to accept null hypothesis, hence, alternative hypothesis is true. A and B are different from each other.\n",
    "\n",
    "TOST p>0.05. Null Hypothesis is true. A and B are Different. "
   ]
  },
  {
   "cell_type": "markdown",
   "metadata": {},
   "source": [
    "## T-Test and Two One-Sided Test for Category 2"
   ]
  },
  {
   "cell_type": "code",
   "execution_count": 4,
   "metadata": {},
   "outputs": [
    {
     "name": "stdout",
     "output_type": "stream",
     "text": [
      "T-Test Results\n",
      "-----------------------------\n"
     ]
    },
    {
     "data": {
      "text/plain": [
       "Ttest_indResult(statistic=3.876723353771707, pvalue=0.0001369884219725474)"
      ]
     },
     "execution_count": 4,
     "metadata": {},
     "output_type": "execute_result"
    },
    {
     "name": "stdout",
     "output_type": "stream",
     "text": [
      "\n",
      "TOST Results\n",
      "-----------------------------\n"
     ]
    },
    {
     "data": {
      "text/plain": [
       "(1.7085448135214322e-36,\n",
       " (16.449880176815082, 2.0027693281529245e-41, 238.0),\n",
       " (-14.983011880793356, 1.7085448135214322e-36, 238.0))"
      ]
     },
     "execution_count": 4,
     "metadata": {},
     "output_type": "execute_result"
    },
    {
     "data": {
      "text/plain": [
       "<matplotlib.axes._subplots.AxesSubplot at 0x1194abc90>"
      ]
     },
     "execution_count": 4,
     "metadata": {},
     "output_type": "execute_result"
    },
    {
     "data": {
      "image/png": "[encoded data removed]",
      "text/plain": [
       "<Figure size 432x288 with 1 Axes>"
      ]
     },
     "metadata": {
      "needs_background": "light"
     },
     "output_type": "display_data"
    }
   ],
   "source": [
    "Category2 = data[data['Category']=='Category 2']\n",
    "print('T-Test Results\\n-----------------------------')\n",
    "stats.ttest_ind(Category2.A, Category2.B)\n",
    "print('\\nTOST Results\\n-----------------------------')\n",
    "ssw.ttost_ind(Category2.A, Category2.B, low=-20, upp=30)\n",
    "Category2.boxplot(column= ['A','B'],grid=False)"
   ]
  },
  {
   "cell_type": "code",
   "execution_count": null,
   "metadata": {},
   "outputs": [],
   "source": []
  },
  {
   "cell_type": "raw",
   "metadata": {},
   "source": [
    "Interpreting results:\n",
    "\n",
    "T-test p<0.05. There is no sufficient evidence to accept null hypothesis, hence, alternative hypothesis is true. A and B are different from each other.\n",
    "\n",
    "\n",
    "TOST p<0.05. here is no sufficient evidence to accept null hypothesis, hence, alternative Hypothesis is true. A and B are equivalent.\n"
   ]
  },
  {
   "cell_type": "markdown",
   "metadata": {},
   "source": [
    "Interpreting results seems confusing. Let me make it more clear below."
   ]
  },
  {
   "cell_type": "markdown",
   "metadata": {},
   "source": [
    "### How to read results of TOST?"
   ]
  },
  {
   "cell_type": "markdown",
   "metadata": {},
   "source": [
    "**null** hypothesis:  m1 - m2 < low or m1 - m2 > upp\n",
    "<br> or *in other words if **p-value is greater than 0.05** difference between two samples is less than low (inferior) or greater than upper (superior)*\n",
    "\n",
    "**alternative** hypothesis:  low < m1 - m2 < upp\n",
    "<br> or *in other words **p-value is less than 0.05** difference between two samples is within lower and upper limits set for the hypothesis testing impliying equivalence.*"
   ]
  },
  {
   "cell_type": "raw",
   "metadata": {},
   "source": [
    "ttost_ind returns results as below\n",
    "    pvalue : float\n",
    "       pvalue of the non-equivalence test\n",
    "    t1, pv1 : tuple of floats\n",
    "       test statistic and pvalue for lower threshold test\n",
    "    t2, pv2 : tuple of floats\n",
    "       test statistic and pvalue for upper threshold test"
   ]
  },
  {
   "cell_type": "code",
   "execution_count": 8,
   "metadata": {},
   "outputs": [
    {
     "name": "stdout",
     "output_type": "stream",
     "text": [
      "Category 1: A and B are not-equivalent. p = 0.6235885568404105. B is superior to A. upper_p = 7.250657069066468e-83\n",
      "Category 2: A and B are Equivalent\n"
     ]
    }
   ],
   "source": [
    "#Function to read TOST results (when higher values are better (to see increase in efficacy of vaccine))\n",
    "#change statement when lower is better (Ex: reduction in churn rate)\n",
    "def TOST(x,y,upp,low):\n",
    "    res=ssw.ttost_ind(x,y,low=low,upp=upp)\n",
    "    overall_p =res[0]\n",
    "    lower_p =res[1][1]\n",
    "    upper_p =res[2][1]\n",
    "    \n",
    "    if overall_p<0.05:\n",
    "        return \"A and B are Equivalent\"\n",
    "    elif overall_p >0.05 and lower_p<0.05:\n",
    "        return \"A and B are not-equivalent. p = \" + str(overall_p) + \". B is inferior A. lower_p = \"+str(lower_p)\n",
    "    elif overall_p >0.05 and upper_p<0.05:\n",
    "        return \"A and B are not-equivalent. p = \" + str(overall_p) + \". B is superior to A. upper_p = \"+ str(upper_p)\n",
    "    \n",
    "print('Category 1: '+TOST(Category1.A,Category1.B,30,-20))\n",
    "print('Category 2: '+TOST(Category2.A,Category2.B,30,-20))"
   ]
  },
  {
   "cell_type": "code",
   "execution_count": 6,
   "metadata": {},
   "outputs": [],
   "source": [
    "# Note to readers: while framing superior and inferior hypothesis test care must be taken to correctly frame null and alternative hypothesis (read blog(link) for more info)"
   ]
  },
  {
   "cell_type": "markdown",
   "metadata": {},
   "source": [
    "### Hit **Star** if you like it. Feel free to share and comment!"
   ]
  }
 ],
 "metadata": {
  "kernelspec": {
   "display_name": "Python 3",
   "language": "python",
   "name": "python3"
  },
  "language_info": {
   "codemirror_mode": {
    "name": "ipython",
    "version": 3
   },
   "file_extension": ".py",
   "mimetype": "text/x-python",
   "name": "python",
   "nbconvert_exporter": "python",
   "pygments_lexer": "ipython3",
   "version": "3.7.6"
  }
 },
 "nbformat": 4,
 "nbformat_minor": 4
}
